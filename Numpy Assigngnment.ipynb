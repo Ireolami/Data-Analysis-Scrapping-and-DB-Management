{
 "cells": [
  {
   "cell_type": "code",
   "execution_count": 2,
   "id": "c3cf80ae",
   "metadata": {},
   "outputs": [],
   "source": [
    "import numpy as np"
   ]
  },
  {
   "cell_type": "markdown",
   "id": "ae527f06",
   "metadata": {},
   "source": [
    "# two dimensional of shape 4x5 uniformly distibuted between 0 and 1"
   ]
  },
  {
   "cell_type": "code",
   "execution_count": 12,
   "id": "184435e0",
   "metadata": {},
   "outputs": [
    {
     "name": "stdout",
     "output_type": "stream",
     "text": [
      "[0.         0.05263158 0.10526316 0.15789474 0.21052632 0.26315789\n",
      " 0.31578947 0.36842105 0.42105263 0.47368421 0.52631579 0.57894737\n",
      " 0.63157895 0.68421053 0.73684211 0.78947368 0.84210526 0.89473684\n",
      " 0.94736842 1.        ]\n"
     ]
    }
   ],
   "source": [
    "var_2d = np.linspace(0, 1, 20)\n",
    "print(var_2d)"
   ]
  },
  {
   "cell_type": "markdown",
   "id": "dd39371c",
   "metadata": {},
   "source": [
    "# RESHAPING THE ARRAY"
   ]
  },
  {
   "cell_type": "code",
   "execution_count": 14,
   "id": "4bdb103c",
   "metadata": {},
   "outputs": [
    {
     "data": {
      "text/plain": [
       "array([[0.        , 0.05263158, 0.10526316, 0.15789474, 0.21052632],\n",
       "       [0.26315789, 0.31578947, 0.36842105, 0.42105263, 0.47368421],\n",
       "       [0.52631579, 0.57894737, 0.63157895, 0.68421053, 0.73684211],\n",
       "       [0.78947368, 0.84210526, 0.89473684, 0.94736842, 1.        ]])"
      ]
     },
     "execution_count": 14,
     "metadata": {},
     "output_type": "execute_result"
    }
   ],
   "source": [
    "var_2d_reshape = var_2d.reshape(4,5)\n",
    "var_2d_reshape"
   ]
  },
  {
   "cell_type": "markdown",
   "id": "d17faf1a",
   "metadata": {},
   "source": [
    "# Generate a np array of vector of length 50"
   ]
  },
  {
   "cell_type": "code",
   "execution_count": 15,
   "id": "47fcfae3",
   "metadata": {},
   "outputs": [
    {
     "name": "stdout",
     "output_type": "stream",
     "text": [
      "[0.         0.02040816 0.04081633 0.06122449 0.08163265 0.10204082\n",
      " 0.12244898 0.14285714 0.16326531 0.18367347 0.20408163 0.2244898\n",
      " 0.24489796 0.26530612 0.28571429 0.30612245 0.32653061 0.34693878\n",
      " 0.36734694 0.3877551  0.40816327 0.42857143 0.44897959 0.46938776\n",
      " 0.48979592 0.51020408 0.53061224 0.55102041 0.57142857 0.59183673\n",
      " 0.6122449  0.63265306 0.65306122 0.67346939 0.69387755 0.71428571\n",
      " 0.73469388 0.75510204 0.7755102  0.79591837 0.81632653 0.83673469\n",
      " 0.85714286 0.87755102 0.89795918 0.91836735 0.93877551 0.95918367\n",
      " 0.97959184 1.        ]\n"
     ]
    }
   ],
   "source": [
    "var_1d = np.linspace(0, 1, 50)\n",
    "print(var_1d)"
   ]
  },
  {
   "cell_type": "markdown",
   "id": "025081d1",
   "metadata": {},
   "source": [
    "# Split the two dimension array into three arrays taking the first two rows, follow by the next two rows and put the remaining in another variable"
   ]
  },
  {
   "cell_type": "code",
   "execution_count": 16,
   "id": "36c37777",
   "metadata": {},
   "outputs": [
    {
     "name": "stdout",
     "output_type": "stream",
     "text": [
      "Array 1:\n",
      "[[0.         0.05263158 0.10526316 0.15789474 0.21052632]\n",
      " [0.26315789 0.31578947 0.36842105 0.42105263 0.47368421]]\n",
      "\n"
     ]
    }
   ],
   "source": [
    "array1 =var_2d_reshape[:2, :]\n",
    "print(\"Array 1:\")\n",
    "print(array1)\n",
    "print()"
   ]
  },
  {
   "cell_type": "code",
   "execution_count": 18,
   "id": "71f82da8",
   "metadata": {},
   "outputs": [
    {
     "name": "stdout",
     "output_type": "stream",
     "text": [
      "Array 2:\n",
      "[[0.52631579 0.57894737 0.63157895 0.68421053 0.73684211]\n",
      " [0.78947368 0.84210526 0.89473684 0.94736842 1.        ]]\n"
     ]
    }
   ],
   "source": [
    "array2 = var_2d_reshape[2:4, :]\n",
    "print(\"Array 2:\")\n",
    "print(array2)"
   ]
  },
  {
   "cell_type": "code",
   "execution_count": 19,
   "id": "492aa6ef",
   "metadata": {},
   "outputs": [
    {
     "name": "stdout",
     "output_type": "stream",
     "text": [
      "Array 3:\n",
      "[]\n"
     ]
    }
   ],
   "source": [
    "array3 = var_2d_reshape[4:, :]\n",
    "print(\"Array 3:\")\n",
    "print(array3)"
   ]
  },
  {
   "cell_type": "markdown",
   "id": "6a379147",
   "metadata": {},
   "source": [
    "# GENERATE RANDOM NUMBER BETWEEN O AND 1 OF LENGTH 50"
   ]
  },
  {
   "cell_type": "code",
   "execution_count": 20,
   "id": "4a014df7",
   "metadata": {},
   "outputs": [
    {
     "data": {
      "text/plain": [
       "array([0.        , 0.02040816, 0.04081633, 0.06122449, 0.08163265,\n",
       "       0.10204082, 0.12244898, 0.14285714, 0.16326531, 0.18367347,\n",
       "       0.20408163, 0.2244898 , 0.24489796, 0.26530612, 0.28571429,\n",
       "       0.30612245, 0.32653061, 0.34693878, 0.36734694, 0.3877551 ,\n",
       "       0.40816327, 0.42857143, 0.44897959, 0.46938776, 0.48979592,\n",
       "       0.51020408, 0.53061224, 0.55102041, 0.57142857, 0.59183673,\n",
       "       0.6122449 , 0.63265306, 0.65306122, 0.67346939, 0.69387755,\n",
       "       0.71428571, 0.73469388, 0.75510204, 0.7755102 , 0.79591837,\n",
       "       0.81632653, 0.83673469, 0.85714286, 0.87755102, 0.89795918,\n",
       "       0.91836735, 0.93877551, 0.95918367, 0.97959184, 1.        ])"
      ]
     },
     "execution_count": 20,
     "metadata": {},
     "output_type": "execute_result"
    }
   ],
   "source": [
    "var = np.linspace(0,1, 50)\n",
    "var"
   ]
  },
  {
   "cell_type": "markdown",
   "id": "8e6734d6",
   "metadata": {},
   "source": [
    "# SPLITTING THE ARRAY INTO 15, 20 AND 15"
   ]
  },
  {
   "cell_type": "code",
   "execution_count": 27,
   "id": "2cd88a90",
   "metadata": {},
   "outputs": [
    {
     "name": "stdout",
     "output_type": "stream",
     "text": [
      "[0.         0.02040816 0.04081633 0.06122449 0.08163265 0.10204082\n",
      " 0.12244898 0.14285714 0.16326531 0.18367347 0.20408163 0.2244898\n",
      " 0.24489796 0.26530612 0.28571429] [0.30612245 0.32653061 0.34693878 0.36734694 0.3877551  0.40816327\n",
      " 0.42857143 0.44897959 0.46938776 0.48979592 0.51020408 0.53061224\n",
      " 0.55102041 0.57142857 0.59183673 0.6122449  0.63265306 0.65306122\n",
      " 0.67346939 0.69387755] [0.71428571 0.73469388 0.75510204 0.7755102  0.79591837 0.81632653\n",
      " 0.83673469 0.85714286 0.87755102 0.89795918 0.91836735 0.93877551\n",
      " 0.95918367 0.97959184 1.        ]\n"
     ]
    }
   ],
   "source": [
    "x, x1, x2 = np.split(var, (15, 35))\n",
    "print(x, x1, x2)"
   ]
  },
  {
   "cell_type": "code",
   "execution_count": null,
   "id": "052f5821",
   "metadata": {},
   "outputs": [],
   "source": [
    "###It is not advisable to use random if you don't want your data to be randomly generated"
   ]
  }
 ],
 "metadata": {
  "kernelspec": {
   "display_name": "Python 3 (ipykernel)",
   "language": "python",
   "name": "python3"
  },
  "language_info": {
   "codemirror_mode": {
    "name": "ipython",
    "version": 3
   },
   "file_extension": ".py",
   "mimetype": "text/x-python",
   "name": "python",
   "nbconvert_exporter": "python",
   "pygments_lexer": "ipython3",
   "version": "3.9.13"
  }
 },
 "nbformat": 4,
 "nbformat_minor": 5
}
