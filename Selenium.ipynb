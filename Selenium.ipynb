{
 "cells": [
  {
   "cell_type": "markdown",
   "id": "ce887550",
   "metadata": {},
   "source": [
    "For you to use selenium, you need to download chromedriver that matches your chrome browser version\n",
    "To download chromedriver, go to chromedriver.chromium.org/downloads.\n",
    "You will download a zip folder, unzip it and copy the path of the unzip folder"
   ]
  },
  {
   "cell_type": "code",
   "execution_count": 69,
   "id": "21d3a621",
   "metadata": {},
   "outputs": [],
   "source": [
    "from selenium import webdriver\n",
    "\n"
   ]
  },
  {
   "cell_type": "code",
   "execution_count": 71,
   "id": "9187befb",
   "metadata": {},
   "outputs": [],
   "source": [
    "#Paste in website that you want to scrape\n",
    "website = 'https://jiji.ng/motorcycles-and-scooters'\n",
    "from selenium import webdriver\n",
    "#The path of the downloaded driver then you will add '/chromedriver' to the end part\n",
    "cService = webdriver.ChromeService(executable_path='/Users/mac/Downloads/chromedriver-mac-x64/chromedriver')\n",
    "\n",
    "driver =webdriver.Chrome(service=cService)\n",
    "driver.get(website)"
   ]
  },
  {
   "cell_type": "code",
   "execution_count": 16,
   "id": "3e7571b6",
   "metadata": {},
   "outputs": [
    {
     "data": {
      "text/plain": [
       "<selenium.webdriver.remote.webelement.WebElement (session=\"1c884d99330a5a1e065926db16a9361e\", element=\"f.67183A563DE5A7367821997AADAB3423.d.233F0F43382FBD52A87FB2E3C98DE118.e.11273\")>"
      ]
     },
     "execution_count": 16,
     "metadata": {},
     "output_type": "execute_result"
    }
   ],
   "source": []
  },
  {
   "cell_type": "code",
   "execution_count": 9,
   "id": "1f05812d",
   "metadata": {},
   "outputs": [],
   "source": [
    "driver.quit()"
   ]
  },
  {
   "cell_type": "markdown",
   "id": "43e87b00",
   "metadata": {},
   "source": [
    "#The next thing is to build the XPATH.\n",
    "press control f on your inspect view\n",
    "To build XPATH\n",
    "//tagname[@AttributeName='Value']"
   ]
  },
  {
   "cell_type": "code",
   "execution_count": 72,
   "id": "9f135768",
   "metadata": {},
   "outputs": [
    {
     "data": {
      "text/plain": [
       "<selenium.webdriver.remote.webelement.WebElement (session=\"e8425d0dfb875224435313f57cec76df\", element=\"f.081CF38982442D2055C5D9DC3F7C577C.d.8AF72DD383052B19A7323EE7FC26AB8D.e.396\")>"
      ]
     },
     "execution_count": 72,
     "metadata": {},
     "output_type": "execute_result"
    }
   ],
   "source": [
    "from selenium.webdriver.common.by import By\n",
    "location = '//div[@class=\"b-advert-listing js-advert-listing qa-advert-listing\"]'\n",
    "element = driver.find_element(By.XPATH, location)\n",
    "element"
   ]
  },
  {
   "cell_type": "code",
   "execution_count": 80,
   "id": "a9e39b78",
   "metadata": {},
   "outputs": [],
   "source": [
    "#We need to use find elements here since we are looking for more than one data\n",
    "new_loc =\"//div[@class= 'b-list-advert__gallery__item js-advert-list-item']\"\n",
    "all_elements =driver.find_elements(By.XPATH, new_loc)"
   ]
  },
  {
   "cell_type": "code",
   "execution_count": 86,
   "id": "fc7165b8",
   "metadata": {},
   "outputs": [
    {
     "data": {
      "text/plain": [
       "700"
      ]
     },
     "execution_count": 86,
     "metadata": {},
     "output_type": "execute_result"
    }
   ],
   "source": [
    "len(all_elements)"
   ]
  },
  {
   "cell_type": "code",
   "execution_count": 92,
   "id": "cd74e07d",
   "metadata": {},
   "outputs": [],
   "source": [
    "var = \"//div[@class='qa-advert-price']\"\n",
    "prices = driver.find_elements(By.XPATH, var)\n",
    "\n",
    "title_path = '//div[@class=\"b-advert-title-inner qa-advert-title b-advert-title-inner--div\"]'\n",
    "titles =driver.find_elements(By.XPATH, title_path)\n",
    "all_desc = '//div[@class=\"b-list-advert-base__description-text\"]'\n",
    "all_description = driver.find_elements(By.XPATH, all_desc)\n",
    "location_var ='//span[@class=\"b-list-advert__region__text\"]'\n",
    "all_locations = driver.find_elements(By.XPATH, location_var)\n",
    "condition_var ='//div[@class=\"b-list-advert-base__item-attr\"]'\n",
    "conditions =driver.find_elements(By.XPATH, condition_var)\n",
    "\n",
    "\n"
   ]
  },
  {
   "cell_type": "code",
   "execution_count": 93,
   "id": "ade234f8",
   "metadata": {},
   "outputs": [],
   "source": [
    "all_prices, all_titles, all_descriptions, all_location, all_conditions =[], [], [], [], []"
   ]
  },
  {
   "cell_type": "code",
   "execution_count": 95,
   "id": "3de44ab1",
   "metadata": {},
   "outputs": [],
   "source": [
    "for a, b, c, d, e in zip(prices, titles, all_description, all_locations, conditions):\n",
    "    prices.append(a.text)\n",
    "    all_titles.append(b.text)\n",
    "    all_descriptions.append(c.text)\n",
    "    all_location.append(d.text)\n",
    "    all_conditions.append(e.text)\n"
   ]
  },
  {
   "cell_type": "code",
   "execution_count": 63,
   "id": "0bfcff1d",
   "metadata": {},
   "outputs": [],
   "source": [
    "# title = driver.find_elements(By.XPATH, '//div[@class=\"b-advert-title-inner qa-advert-title b-advert-title-inner--div\"]')"
   ]
  },
  {
   "cell_type": "code",
   "execution_count": 99,
   "id": "20126717",
   "metadata": {},
   "outputs": [
    {
     "data": {
      "text/html": [
       "<div>\n",
       "<style scoped>\n",
       "    .dataframe tbody tr th:only-of-type {\n",
       "        vertical-align: middle;\n",
       "    }\n",
       "\n",
       "    .dataframe tbody tr th {\n",
       "        vertical-align: top;\n",
       "    }\n",
       "\n",
       "    .dataframe thead th {\n",
       "        text-align: right;\n",
       "    }\n",
       "</style>\n",
       "<table border=\"1\" class=\"dataframe\">\n",
       "  <thead>\n",
       "    <tr style=\"text-align: right;\">\n",
       "      <th></th>\n",
       "      <th>Title</th>\n",
       "      <th>Description</th>\n",
       "      <th>Location</th>\n",
       "      <th>Price</th>\n",
       "      <th>Condition</th>\n",
       "    </tr>\n",
       "  </thead>\n",
       "  <tbody>\n",
       "    <tr>\n",
       "      <th>1</th>\n",
       "      <td>New CFMoto 150NK 2023 Black</td>\n",
       "      <td>Electric charging wheel balanced scooter</td>\n",
       "      <td>Kano, Nasarawa-Kano</td>\n",
       "      <td>₦ 250,000</td>\n",
       "      <td>Brand New</td>\n",
       "    </tr>\n",
       "    <tr>\n",
       "      <th>2</th>\n",
       "      <td>Qlink XF 200 2019 Black</td>\n",
       "      <td>This is qlink super ranger 200cc for good and ...</td>\n",
       "      <td>Abuja, Gudu</td>\n",
       "      <td>₦ 520,000</td>\n",
       "      <td>Black</td>\n",
       "    </tr>\n",
       "    <tr>\n",
       "      <th>3</th>\n",
       "      <td>Honda Forza 2008 White</td>\n",
       "      <td>Clean Japanese tokunbo keyless honda forza 250...</td>\n",
       "      <td>Lagos, Ogba</td>\n",
       "      <td>₦ 1,100,000</td>\n",
       "      <td>Nigerian Used</td>\n",
       "    </tr>\n",
       "    <tr>\n",
       "      <th>4</th>\n",
       "      <td>Bajaj RE 2019 Yellow</td>\n",
       "      <td>Nigerian Used Keke. Sound and good to go. Bran...</td>\n",
       "      <td>Abuja, Mararaba</td>\n",
       "      <td>₦ 800,000</td>\n",
       "      <td>Black</td>\n",
       "    </tr>\n",
       "    <tr>\n",
       "      <th>5</th>\n",
       "      <td>Honda CB 2010 Red</td>\n",
       "      <td>Working perfectly buy and drive</td>\n",
       "      <td>Ondo, Akure</td>\n",
       "      <td>₦ 600,000</td>\n",
       "      <td>Foreign Used</td>\n",
       "    </tr>\n",
       "  </tbody>\n",
       "</table>\n",
       "</div>"
      ],
      "text/plain": [
       "                         Title  \\\n",
       "1  New CFMoto 150NK 2023 Black   \n",
       "2      Qlink XF 200 2019 Black   \n",
       "3       Honda Forza 2008 White   \n",
       "4         Bajaj RE 2019 Yellow   \n",
       "5            Honda CB 2010 Red   \n",
       "\n",
       "                                         Description             Location  \\\n",
       "1           Electric charging wheel balanced scooter  Kano, Nasarawa-Kano   \n",
       "2  This is qlink super ranger 200cc for good and ...          Abuja, Gudu   \n",
       "3  Clean Japanese tokunbo keyless honda forza 250...          Lagos, Ogba   \n",
       "4  Nigerian Used Keke. Sound and good to go. Bran...      Abuja, Mararaba   \n",
       "5                    Working perfectly buy and drive          Ondo, Akure   \n",
       "\n",
       "         Price      Condition  \n",
       "1    ₦ 250,000      Brand New  \n",
       "2    ₦ 520,000          Black  \n",
       "3  ₦ 1,100,000  Nigerian Used  \n",
       "4    ₦ 800,000          Black  \n",
       "5    ₦ 600,000   Foreign Used  "
      ]
     },
     "execution_count": 99,
     "metadata": {},
     "output_type": "execute_result"
    }
   ],
   "source": [
    "import pandas as pd\n",
    "n= range(1, len(all_prices)+1)\n",
    "ind =pd.Index(n)\n",
    "\n",
    "dataset= pd.DataFrame({'Title': all_titles, 'Description': all_descriptions, 'Location': all_location,\n",
    "                      'Price': all_prices, 'Condition': all_conditions}, index=ind)\n",
    "\n",
    "dataset.head()"
   ]
  },
  {
   "cell_type": "code",
   "execution_count": 100,
   "id": "aba92cd8",
   "metadata": {},
   "outputs": [],
   "source": [
    "dataset.to_csv('Jiji_Scraped.csv')"
   ]
  },
  {
   "cell_type": "code",
   "execution_count": 101,
   "id": "1a75dad4",
   "metadata": {},
   "outputs": [],
   "source": [
    "# # info = [title, prices]\n",
    "# all_titles = []\n",
    "# all_prices =[]\n",
    "# for name, price in zip(title, prices):\n",
    "#     all_titles.append(name.text)\n",
    "#     all_prices.append(price.text)\n",
    "# all_titles"
   ]
  },
  {
   "cell_type": "code",
   "execution_count": null,
   "id": "461203d2",
   "metadata": {},
   "outputs": [],
   "source": []
  }
 ],
 "metadata": {
  "kernelspec": {
   "display_name": "Python 3 (ipykernel)",
   "language": "python",
   "name": "python3"
  },
  "language_info": {
   "codemirror_mode": {
    "name": "ipython",
    "version": 3
   },
   "file_extension": ".py",
   "mimetype": "text/x-python",
   "name": "python",
   "nbconvert_exporter": "python",
   "pygments_lexer": "ipython3",
   "version": "3.9.13"
  }
 },
 "nbformat": 4,
 "nbformat_minor": 5
}
